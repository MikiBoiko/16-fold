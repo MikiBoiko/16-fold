{
 "cells": [
  {
   "attachments": {},
   "cell_type": "markdown",
   "metadata": {},
   "source": [
    "# Literally generate array of positions"
   ]
  },
  {
   "cell_type": "code",
   "execution_count": 5,
   "metadata": {},
   "outputs": [
    {
     "name": "stdout",
     "output_type": "stream",
     "text": [
      "[\"A1\", \"A2\", \"A3\", \"A4\", \"A5\", \"A6\", \"A7\", \"B1\", \"B2\", \"B3\", \"B4\", \"B5\", \"B6\", \"B7\", \"C1\", \"C2\", \"C3\", \"C4\", \"C5\", \"C6\", \"C7\", \"D1\", \"D2\", \"D3\", \"D4\", \"D5\", \"D6\", \"D7\"]"
     ]
    }
   ],
   "source": [
    "letters = (\"A\", \"B\", \"C\", \"D\")\n",
    "numbers = range(1, 8)\n",
    "\n",
    "print(\"[\", end=\"\")\n",
    "for letter in letters:\n",
    "    for number in numbers:\n",
    "        if number != 7 or letter != \"D\":\n",
    "            print(\"\\\"{}{}\\\", \".format(letter, number), end=\"\")\n",
    "        else:\n",
    "            print(\"\\\"{}{}\\\"\".format(letter, number), end=\"\")\n",
    "print(\"]\", end=\"\")"
   ]
  }
 ],
 "metadata": {
  "kernelspec": {
   "display_name": "Python 3",
   "language": "python",
   "name": "python3"
  },
  "language_info": {
   "codemirror_mode": {
    "name": "ipython",
    "version": 3
   },
   "file_extension": ".py",
   "mimetype": "text/x-python",
   "name": "python",
   "nbconvert_exporter": "python",
   "pygments_lexer": "ipython3",
   "version": "3.8.10"
  },
  "orig_nbformat": 4,
  "vscode": {
   "interpreter": {
    "hash": "916dbcbb3f70747c44a77c7bcd40155683ae19c65e1c03b4aa3499c5328201f1"
   }
  }
 },
 "nbformat": 4,
 "nbformat_minor": 2
}

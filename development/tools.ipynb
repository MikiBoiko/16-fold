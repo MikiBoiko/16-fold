{
 "cells": [
  {
   "attachments": {},
   "cell_type": "markdown",
   "metadata": {},
   "source": [
    "# Literally generate array of positions"
   ]
  },
  {
   "cell_type": "code",
   "execution_count": 3,
   "metadata": {},
   "outputs": [
    {
     "name": "stdout",
     "output_type": "stream",
     "text": [
      "[\"a7\", \"b7\", \"c7\", \"d7\", \"a6\", \"b6\", \"c6\", \"d6\", \"a5\", \"b5\", \"c5\", \"d5\", \"a4\", \"b4\", \"c4\", \"d4\", \"a3\", \"b3\", \"c3\", \"d3\", \"a2\", \"b2\", \"c2\", \"d2\", \"a1\", \"b1\", \"c1\", \"d1\"]"
     ]
    }
   ],
   "source": [
    "letters = (\"a\", \"b\", \"c\", \"d\")\n",
    "numbers = range(7, 0, -1)\n",
    "\n",
    "print(\"[\", end=\"\")\n",
    "for number in numbers:\n",
    "    for letter in letters:\n",
    "        if number != 1 or letter != \"d\":\n",
    "            print(\"\\\"{}{}\\\", \".format(letter, number), end=\"\")\n",
    "        else:\n",
    "            print(\"\\\"{}{}\\\"\".format(letter, number), end=\"\")\n",
    "print(\"]\", end=\"\")"
   ]
  },
  {
   "cell_type": "code",
   "execution_count": null,
   "metadata": {},
   "outputs": [],
   "source": []
  }
 ],
 "metadata": {
  "kernelspec": {
   "display_name": "Python 3",
   "language": "python",
   "name": "python3"
  },
  "language_info": {
   "codemirror_mode": {
    "name": "ipython",
    "version": 3
   },
   "file_extension": ".py",
   "mimetype": "text/x-python",
   "name": "python",
   "nbconvert_exporter": "python",
   "pygments_lexer": "ipython3",
   "version": "3.8.10"
  },
  "orig_nbformat": 4,
  "vscode": {
   "interpreter": {
    "hash": "916dbcbb3f70747c44a77c7bcd40155683ae19c65e1c03b4aa3499c5328201f1"
   }
  }
 },
 "nbformat": 4,
 "nbformat_minor": 2
}
